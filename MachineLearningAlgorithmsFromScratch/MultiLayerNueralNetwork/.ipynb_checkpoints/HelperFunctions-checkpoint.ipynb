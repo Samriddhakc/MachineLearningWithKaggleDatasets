{
 "cells": [
  {
   "cell_type": "code",
   "execution_count": 1,
   "metadata": {},
   "outputs": [],
   "source": [
    "import numpy as np "
   ]
  },
  {
   "cell_type": "code",
   "execution_count": 2,
   "metadata": {},
   "outputs": [],
   "source": [
    "#Implement sigmoid activation function & Relu\n",
    "def sigmoid(x):\n",
    "    return 1/(1+np.exp(-x))\n",
    "def relu(x):\n",
    "    return np.maximum(0,x)"
   ]
  },
  {
   "cell_type": "code",
   "execution_count": 3,
   "metadata": {},
   "outputs": [
    {
     "name": "stdout",
     "output_type": "stream",
     "text": [
      "Sigmoid at 0 is 0.5\n",
      "relu at 0 is 0\n",
      "relu at -ve is 0\n",
      "relu at +ve is [[0 0 1 2]\n",
      " [0 0 0 0]]\n"
     ]
    }
   ],
   "source": [
    "#Test cases \n",
    "print(\"Sigmoid at 0 is \"+str(sigmoid(0)))\n",
    "print(\"relu at 0 is \"+str(relu(0)));\n",
    "print(\"relu at -ve is \"+str(relu(-1)));\n",
    "print(\"relu at +ve is \"+str(relu(np.array([[-1,0,1,2],[-1,-2,-3,-4]]))));"
   ]
  },
  {
   "cell_type": "code",
   "execution_count": 4,
   "metadata": {},
   "outputs": [],
   "source": [
    "#Implement logit loss function\n",
    "def loss(m,A,Y):\n",
    "        logprobs = np.multiply(np.log(A),Y) + np.multiply(np.log(1 - A), 1 - Y)\n",
    "        cost = -1./m * np.sum(logprobs)\n",
    "        return cost"
   ]
  },
  {
   "cell_type": "code",
   "execution_count": 5,
   "metadata": {},
   "outputs": [
    {
     "name": "stdout",
     "output_type": "stream",
     "text": [
      "0.6528099556897475\n"
     ]
    }
   ],
   "source": [
    "#Test cases for the logit loss function\n",
    "A3=np.random.rand(3,)\n",
    "Y=np.array([0,1,2])\n",
    "m=Y.shape[0]\n",
    "print(loss(m,A3,Y))"
   ]
  },
  {
   "cell_type": "code",
   "execution_count": 6,
   "metadata": {},
   "outputs": [],
   "source": [
    "A3=np.random.rand(3,1)\n",
    "Y=np.array([0,1,2])\n",
    "m=Y.shape[0]\n"
   ]
  },
  {
   "cell_type": "code",
   "execution_count": 7,
   "metadata": {},
   "outputs": [],
   "source": [
    "#Implement L2 Loss\n",
    "def L2_loss(m,A,Y):\n",
    "        J=np.sum((np.subtract(A-Y))**2)\n",
    "        return J"
   ]
  },
  {
   "cell_type": "code",
   "execution_count": 8,
   "metadata": {},
   "outputs": [],
   "source": [
    "A_test=np.random.rand(3,3)\n",
    "Y_test=np.array([0,1,2])\n",
    "Y_test=np.eye(3)[Y_test]\n",
    "m_test=Y_test.shape[0]\n",
    "#print(loss(m_test,np.eye(3),np.zeros((3,3))))\n",
    "#print(np.eye(3))\n",
    "#print(np.zeros((3,3)))\n",
    "#np.subtract(np.eye(3)-np.zeros((3,3))"
   ]
  }
 ],
 "metadata": {
  "kernelspec": {
   "display_name": "Python 3",
   "language": "python",
   "name": "python3"
  },
  "language_info": {
   "codemirror_mode": {
    "name": "ipython",
    "version": 3
   },
   "file_extension": ".py",
   "mimetype": "text/x-python",
   "name": "python",
   "nbconvert_exporter": "python",
   "pygments_lexer": "ipython3",
   "version": "3.7.3"
  }
 },
 "nbformat": 4,
 "nbformat_minor": 2
}
